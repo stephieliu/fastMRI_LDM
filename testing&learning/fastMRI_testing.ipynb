{
 "cells": [
  {
   "cell_type": "code",
   "execution_count": null,
   "metadata": {},
   "outputs": [],
   "source": [
    "# Want to test the pytorch tensors\n",
    "\n",
    "# Import statements\n",
    "import torch\n",
    "import torchvision\n",
    "import matplotlib.pyplot as plt\n",
    "import lightning as L\n",
    "\n",
    "import fastmri\n",
    "from fastmri.data import transforms as T\n",
    "\n",
    "import h5py\n",
    "\n",
    "import numpy as np\n",
    "\n",
    "import os\n",
    "\n",
    "# Access just one file\n",
    "directory = \"../kadotab/Datasets/16_chans/train/file_brain_AXT1POST_201_6002674.h5\"\n",
    "\n",
    "file = h5py.File(directory)\n",
    "# Recall: Groups work like dictionaries, and datasets work like NumPy arrays\n",
    "\n",
    "# Check the keys\n",
    "print('keys:', list(file.keys()))\n",
    "# Output: keys: ['ismrmrd_header', 'kspace', 'reconstruction_rss']\n",
    "\n",
    "# Access the k-space\n",
    "volume_kspace = file['kspace'][()]\n",
    "print(volume_kspace.dtype)\n",
    "print(volume_kspace.shape)\n",
    "# Output: complex64\n",
    "# (16, 16, 640, 320)\n",
    "    # Note: k-space is of the format [number of slices, number of coils, height, width]\n",
    "\n",
    "# Turn into pytorch tensor using fastmri transforms\n",
    "tensor = T.to_tensor(volume_kspace)\n",
    "print(tensor.dtype)\n",
    "print(tensor.shape)\n",
    "# Output: torch.float32\n",
    "# torch.Size([16, 16, 640, 320, 2])\n",
    "    # Note: k-space is of the format [number of slices, number of coils, height, width,\n",
    "    # dimension]\n",
    "    # The real and imaginary parts are stacked along the last dimension"
   ]
  }
 ],
 "metadata": {
  "language_info": {
   "name": "python"
  }
 },
 "nbformat": 4,
 "nbformat_minor": 2
}
