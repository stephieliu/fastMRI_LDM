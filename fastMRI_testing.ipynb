{
 "cells": [
  {
   "cell_type": "code",
   "execution_count": null,
   "metadata": {},
   "outputs": [],
   "source": [
    "# Want to test the pytorch tensors\n",
    "\n",
    "import torch\n",
    "import torchvision\n",
    "import matplotlib.pyplot as plt\n",
    "import lightning as L\n",
    "\n",
    "import fastmri\n",
    "from fastmri.data import transforms as T\n",
    "\n",
    "import h5py\n",
    "\n",
    "# Set the directory for the data\n",
    "directory = \"../../kadotab/Datasets/16_chans\"\n",
    "\n"
   ]
  }
 ],
 "metadata": {
  "language_info": {
   "name": "python"
  }
 },
 "nbformat": 4,
 "nbformat_minor": 2
}
