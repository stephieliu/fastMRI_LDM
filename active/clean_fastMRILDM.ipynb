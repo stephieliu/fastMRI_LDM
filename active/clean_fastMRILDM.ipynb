{
 "cells": [
  {
   "cell_type": "code",
   "execution_count": null,
   "metadata": {},
   "outputs": [],
   "source": [
    "# [ACTIVE] Personal Dataset creation\n",
    "\n",
    "# Import statements\n",
    "import fastmri\n",
    "from fastmri.data import transforms as T\n",
    "import h5py\n",
    "import os\n",
    "import numpy as np\n",
    "import torch\n",
    "from torch.utils.data import Dataset, DataLoader\n",
    "\n",
    "# Set the directory for the data\n",
    "directory = \"../../kadotab/Datasets/16_chans\"\n"
   ]
  }
 ],
 "metadata": {
  "language_info": {
   "name": "python"
  }
 },
 "nbformat": 4,
 "nbformat_minor": 2
}
